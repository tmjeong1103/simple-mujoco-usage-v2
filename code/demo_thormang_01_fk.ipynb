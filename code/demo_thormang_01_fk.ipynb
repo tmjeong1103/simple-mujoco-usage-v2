{
 "cells": [
  {
   "cell_type": "markdown",
   "id": "052458aa",
   "metadata": {},
   "source": [
    "### Forward Kinematics of `Thormang`"
   ]
  },
  {
   "cell_type": "code",
   "execution_count": 1,
   "id": "72183bad",
   "metadata": {},
   "outputs": [
    {
     "name": "stdout",
     "output_type": "stream",
     "text": [
      "\n",
      "WARNING: Existing glfw python module detected!\n",
      "\n",
      "MuJoCo comes with its own version of GLFW, so it's preferable to use that one.\n",
      "\n",
      "The easy solution is to `import mujoco_py` _before_ `import glfw`.\n",
      "\n",
      "Done.\n"
     ]
    }
   ],
   "source": [
    "import numpy as np\n",
    "np.set_printoptions(precision=2)\n",
    "import matplotlib.pyplot as plt\n",
    "%config InlineBackend.figure_format = 'retina'\n",
    "%matplotlib inline\n",
    "from mujoco_parser import MuJoCoParserClass\n",
    "print (\"Done.\")"
   ]
  },
  {
   "cell_type": "markdown",
   "id": "fcaceea1",
   "metadata": {},
   "source": [
    "### Forward kinematics of `Thormang` of a random pose\n",
    " Note that kinematics does not care about Laws of Motion."
   ]
  },
  {
   "cell_type": "code",
   "execution_count": 2,
   "id": "2d7da045",
   "metadata": {},
   "outputs": [
    {
     "name": "stdout",
     "output_type": "stream",
     "text": [
      "Creating window glfw\n",
      "Creating window glfw\n"
     ]
    },
    {
     "ename": "SystemExit",
     "evalue": "0",
     "output_type": "error",
     "traceback": [
      "An exception has occurred, use %tb to see the full traceback.\n",
      "\u001b[0;31mSystemExit\u001b[0m\u001b[0;31m:\u001b[0m 0\n"
     ]
    },
    {
     "name": "stderr",
     "output_type": "stream",
     "text": [
      "/home/user/.pyenv/versions/3.8.0/envs/mujoco_env/lib/python3.8/site-packages/IPython/core/interactiveshell.py:3441: UserWarning: To exit: use 'exit', 'quit', or Ctrl-D.\n",
      "  warn(\"To exit: use 'exit', 'quit', or Ctrl-D.\", stacklevel=1)\n"
     ]
    }
   ],
   "source": [
    "env = MuJoCoParserClass(name='thormang_rilab',rel_xml_path='../asset/thormang_rilab/thormang_rilab.xml',VERBOSE=False)\n",
    "env.init_viewer(TERMINATE_GLFW=True,INITIALIZE_GLFW=True,window_width=0.5,window_height=0.5)\n",
    "env.set_max_tick(max_tick=100000)\n",
    "q_list = np.zeros((env.max_tick,env.n_rev_joint))\n",
    "while env.IS_ALIVE():\n",
    "    rev_range = env.joint_range[env.rev_joint_idxs]\n",
    "    q_rand = rev_range[:,0]+(rev_range[:,1]-rev_range[:,0])*np.random.rand(env.n_rev_joint)\n",
    "    env.forward(q_pos=q_rand,q_pos_idxs=env.rev_joint_idxs)\n",
    "    env.render(RENDER_ALWAYS=False)\n",
    "    # Append\n",
    "    q_list[env.tick-1,:] = env.get_q_pos(q_pos_idxs=env.rev_joint_idxs)\n",
    "    \n",
    "env.terminate_viewer()\n",
    "print (\"Done.\")"
   ]
  },
  {
   "cell_type": "code",
   "execution_count": null,
   "id": "61c9e000",
   "metadata": {},
   "outputs": [],
   "source": []
  }
 ],
 "metadata": {
  "kernelspec": {
   "display_name": "Python 3 (ipykernel)",
   "language": "python",
   "name": "python3"
  },
  "language_info": {
   "codemirror_mode": {
    "name": "ipython",
    "version": 3
   },
   "file_extension": ".py",
   "mimetype": "text/x-python",
   "name": "python",
   "nbconvert_exporter": "python",
   "pygments_lexer": "ipython3",
   "version": "3.8.0"
  }
 },
 "nbformat": 4,
 "nbformat_minor": 5
}
